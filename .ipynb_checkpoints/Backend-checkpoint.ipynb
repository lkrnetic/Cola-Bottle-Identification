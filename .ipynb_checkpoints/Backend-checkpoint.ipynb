{
 "cells": [
  {
   "cell_type": "code",
   "execution_count": 50,
   "metadata": {},
   "outputs": [],
   "source": [
    "import os\n",
    "import flask\n",
    "from werkzeug.utils import secure_filename\n",
    "import tensorflow as tf\n",
    "from tensorflow import keras\n",
    "from keras.preprocessing.image import ImageDataGenerator\n",
    "import os\n",
    "from flask import request\n",
    "from werkzeug.utils import secure_filename\n",
    "import cv2\n",
    "import numpy as np"
   ]
  },
  {
   "cell_type": "code",
   "execution_count": 35,
   "metadata": {},
   "outputs": [],
   "source": [
    "dataset_for_tvt = \"dataset_for_tvt\"\n",
    "validation_dir = os.path.join(dataset_for_tvt,'validation/')\n",
    "train_datagen=ImageDataGenerator(rescale=1.0/255)\n",
    "validation_generator = train_datagen.flow_from_directory(\n",
    "    validation_dir, \n",
    "    target_size = (160, 160),\n",
    "    color_mode = 'rgb',\n",
    "    batch_size = 64,\n",
    "    class_mode = 'categorical',\n",
    "    shuffle = False,\n",
    ")\n",
    "list_of_classes = list(validation_generator.class_indices.keys())\n",
    "model = tf.keras.models.load_model('model.h5')"
   ]
  },
  {
   "cell_type": "code",
   "execution_count": null,
   "metadata": {},
   "outputs": [],
   "source": [
    "def get_img_array(img_path):\n",
    "    img = keras.preprocessing.image.load_img(img_path, target_size=(160, 160))\n",
    "    array = keras.preprocessing.image.img_to_array(img)  * (1.0 / 255)\n",
    "    array = np.expand_dims(array, axis=0)\n",
    "    return array"
   ]
  },
  {
   "cell_type": "code",
   "execution_count": 52,
   "metadata": {},
   "outputs": [
    {
     "name": "stdout",
     "output_type": "stream",
     "text": [
      " * Serving Flask app \"__main__\" (lazy loading)\n",
      " * Environment: production\n",
      "   WARNING: Do not use the development server in a production environment.\n",
      "   Use a production WSGI server instead.\n",
      " * Debug mode: off\n"
     ]
    },
    {
     "name": "stderr",
     "output_type": "stream",
     "text": [
      " * Running on http://0.0.0.0:5100/ (Press CTRL+C to quit)\n",
      "127.0.0.1 - - [17/Jan/2022 00:38:53] \"\u001b[37mPOST /predict HTTP/1.1\u001b[0m\" 200 -\n"
     ]
    }
   ],
   "source": [
    "port = 5100\n",
    "app = flask.Flask(__name__)\n",
    "\n",
    "@app.route('/info', methods=['GET'])\n",
    "def get_list_of_supported_classes():\n",
    "    response = \"A list of currently supported classes that the model can currently detect are: \" + \", \".join(list_of_classes)\n",
    "    return response\n",
    "\n",
    "@app.route('/predict', methods=['POST'])\n",
    "def predict_class():\n",
    "    file = request.files['filename']\n",
    "    filename = secure_filename(file.filename)\n",
    "    file.save(os.path.join(\"uploads/\", filename))\n",
    "    img = \n",
    "    index_of_predicted_class = np.argmax(model.predict(img)[0])\n",
    "    predicted_class = list_of_classes[index_of_predicted_class]\n",
    "    response = \"Predicted class is: \" + predicted_class\n",
    "    return response\n",
    "\n",
    "app.run(host=\"0.0.0.0\", port=port)"
   ]
  },
  {
   "cell_type": "code",
   "execution_count": null,
   "metadata": {},
   "outputs": [],
   "source": []
  }
 ],
 "metadata": {
  "kernelspec": {
   "display_name": "Python 3",
   "language": "python",
   "name": "python3"
  },
  "language_info": {
   "codemirror_mode": {
    "name": "ipython",
    "version": 3
   },
   "file_extension": ".py",
   "mimetype": "text/x-python",
   "name": "python",
   "nbconvert_exporter": "python",
   "pygments_lexer": "ipython3",
   "version": "3.7.1"
  }
 },
 "nbformat": 4,
 "nbformat_minor": 2
}
